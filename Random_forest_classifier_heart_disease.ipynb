{
  "nbformat": 4,
  "nbformat_minor": 0,
  "metadata": {
    "colab": {
      "provenance": []
    },
    "kernelspec": {
      "name": "python3",
      "display_name": "Python 3"
    },
    "language_info": {
      "name": "python"
    }
  },
  "cells": [
    {
      "cell_type": "code",
      "source": [
        "import numpy as np # linear algebra\n",
        "import pandas as pd \n",
        "import matplotlib\n",
        "import matplotlib.pyplot as plt\n",
        "%matplotlib inline\n",
        "import seaborn as sns\n",
        "import warnings # ignore warnings\n",
        "warnings.filterwarnings('ignore')\n"
      ],
      "metadata": {
        "id": "gpXZ25tIY3Yq"
      },
      "execution_count": null,
      "outputs": []
    },
    {
      "cell_type": "code",
      "source": [
        "df = pd.read_excel('/content/heart.xlsx')"
      ],
      "metadata": {
        "id": "mUsiSewhY3ao"
      },
      "execution_count": null,
      "outputs": []
    },
    {
      "cell_type": "code",
      "source": [
        "df.head(10)\n"
      ],
      "metadata": {
        "id": "X2BX3ouOY3dz"
      },
      "execution_count": null,
      "outputs": []
    },
    {
      "cell_type": "code",
      "source": [
        "df.target.value_counts()"
      ],
      "metadata": {
        "id": "YJP3aLv-Y3hF"
      },
      "execution_count": null,
      "outputs": []
    },
    {
      "cell_type": "code",
      "source": [
        "disease = len(df[df['target'] == 1])\n",
        "no_disease = len(df[df['target']== 0])"
      ],
      "metadata": {
        "id": "sQOMmPjBY3ju"
      },
      "execution_count": null,
      "outputs": []
    },
    {
      "cell_type": "code",
      "source": [
        "import matplotlib.pyplot as plt\n",
        "plt.rcdefaults()\n",
        "fig, ax = plt.subplots()\n",
        "y = ('Heart Disease', 'No Disease')\n",
        "y_pos = np.arange(len(y))\n",
        "x = (disease, no_disease)\n",
        "ax.barh(y_pos, x, align='center')\n",
        "ax.set_yticks(y_pos)\n",
        "ax.set_yticklabels(y)\n",
        "ax.invert_yaxis() # labels read top-to-bottom\n",
        "ax.set_xlabel('Count')\n",
        "ax.set_title('Target')\n",
        "for i, v in enumerate(x):\n",
        "    ax.text(v + 10, i, str(v), color='black', va='center', fontweight='normal')\n",
        "plt.show()\n"
      ],
      "metadata": {
        "id": "nQs1DWq9Y3mh"
      },
      "execution_count": null,
      "outputs": []
    },
    {
      "cell_type": "code",
      "source": [
        "df.isna().sum() # missing values"
      ],
      "metadata": {
        "id": "HFwcjtwgY3pN"
      },
      "execution_count": null,
      "outputs": []
    },
    {
      "cell_type": "code",
      "source": [
        "qualitative = []\n",
        "quantitative = []\n",
        "for feature in df.columns:\n",
        "    if len(df[feature].unique()) <= 8:\n",
        "        qualitative.append(feature)\n",
        "    else:\n",
        "        quantitative.append(feature)"
      ],
      "metadata": {
        "id": "GcXZwdmZY3sO"
      },
      "execution_count": null,
      "outputs": []
    },
    {
      "cell_type": "code",
      "source": [
        "qualitative"
      ],
      "metadata": {
        "id": "3EWAvQBIY3wp"
      },
      "execution_count": null,
      "outputs": []
    },
    {
      "cell_type": "code",
      "source": [
        "quantitative"
      ],
      "metadata": {
        "id": "qp_qegNSRjYj"
      },
      "execution_count": null,
      "outputs": []
    },
    {
      "cell_type": "code",
      "source": [
        "df.columns"
      ],
      "metadata": {
        "id": "ohTC0dPJRjas"
      },
      "execution_count": null,
      "outputs": []
    },
    {
      "cell_type": "code",
      "source": [
        "X = df.drop('target',1)\n",
        "y = df['target']\n",
        "print('shape of X and y respectively :', X.shape, y.shape)"
      ],
      "metadata": {
        "id": "agmqSWPRRjeq"
      },
      "execution_count": null,
      "outputs": []
    },
    {
      "cell_type": "code",
      "source": [
        "from sklearn.model_selection import train_test_split\n",
        "X_train, X_test, y_train, y_test = train_test_split(X, y, test_size=0.2, random_state=0)\n",
        "print('shape of X and y respectively (train) :', X_train.shape, y_train.shape)\n",
        "print('shape of X and y respectively (test) :', X_test.shape, y_test.shape)"
      ],
      "metadata": {
        "id": "ZEfJ5MxERjhk"
      },
      "execution_count": null,
      "outputs": []
    },
    {
      "cell_type": "code",
      "source": [
        "from sklearn.ensemble import RandomForestClassifier\n",
        "model = RandomForestClassifier(n_estimators=2) # , max_depth=5, random_state=1\n",
        "model.fit(X_train, y_train)\n",
        "Y_pred = model.predict(X_test)\n",
        "score = model.score(X_train, y_train)\n",
        "score = model.score(X_test, y_test)\n",
        "print('Testing Score:', score)\n"
      ],
      "metadata": {
        "id": "_6abZae3Rjkl"
      },
      "execution_count": null,
      "outputs": []
    },
    {
      "cell_type": "markdown",
      "source": [
        "Thank you :)"
      ],
      "metadata": {
        "id": "YW6yKjgZR7yK"
      }
    }
  ]
}
